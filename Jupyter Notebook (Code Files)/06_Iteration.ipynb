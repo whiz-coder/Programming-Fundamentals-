{
 "cells": [
  {
   "cell_type": "raw",
   "metadata": {},
   "source": [
    "Iteration, Repetition, Loops\n",
    "\n",
    "Sometimes, you want to do things more than once."
   ]
  },
  {
   "cell_type": "code",
   "execution_count": null,
   "metadata": {},
   "outputs": [],
   "source": [
    "print(\"Put sugar in.\")\n",
    "print (\"Put milk in.\")\n",
    "print(\"Put tea leaves in.\")"
   ]
  },
  {
   "cell_type": "markdown",
   "metadata": {},
   "source": [
    "However, that's a lot of wastage of our time. \"A good programmer is a lazy programmer!\""
   ]
  },
  {
   "cell_type": "code",
   "execution_count": null,
   "metadata": {},
   "outputs": [],
   "source": [
    "lst = ('sugar', 'milk', 'tea leaves','sugar', 'milk', 'tea leaves','sugar', 'milk', 'tea leaves)\n",
    "string = 'hello'\n",
    "for ingredient in string: \n",
    "    print(\"Put\", ingredient, \"in.\")\n",
    "    "
   ]
  },
  {
   "cell_type": "code",
   "execution_count": 1,
   "metadata": {},
   "outputs": [
    {
     "name": "stdout",
     "output_type": "stream",
     "text": [
      "1\n",
      "2\n",
      "3\n",
      "4\n",
      "5\n",
      "6\n",
      "7\n",
      "8\n",
      "9\n",
      "10\n"
     ]
    }
   ],
   "source": [
    "for i in 1,2,3,4,5,6,7,8,9,10:\n",
    "    print(i)"
   ]
  },
  {
   "cell_type": "code",
   "execution_count": null,
   "metadata": {},
   "outputs": [],
   "source": [
    "for ingredient in 'sugar', 'milk', 'tea leaves', 'water': \n",
    "    print(\"Put\", ingredient, \"in.\")\n",
    "    "
   ]
  },
  {
   "cell_type": "markdown",
   "metadata": {},
   "source": [
    "This is a compound statement that \"loops\" over the body. This particular type, surprisingly, is termed as the \"for loop\". It knows how many times we have to run the loop."
   ]
  },
  {
   "cell_type": "code",
   "execution_count": 5,
   "metadata": {},
   "outputs": [
    {
     "name": "stdout",
     "output_type": "stream",
     "text": [
      "0\n",
      "1\n",
      "2\n",
      "3\n",
      "4\n",
      "5\n",
      "6\n",
      "7\n",
      "8\n",
      "9\n",
      "done\n"
     ]
    }
   ],
   "source": [
    "for i in range(10):  # loop over a few numbers    \n",
    "         \n",
    "    print(i) \n",
    "\n",
    "        \n",
    "print(\"done\")"
   ]
  },
  {
   "cell_type": "code",
   "execution_count": null,
   "metadata": {},
   "outputs": [],
   "source": [
    "for i in range(10):  # loop over a few numbers    \n",
    "         \n",
    "    print(i) \n",
    "   \n",
    "\n",
    "        \n",
    "print(\"done\")"
   ]
  },
  {
   "cell_type": "raw",
   "metadata": {},
   "source": [
    "Sometimes, we don't know how many times to run the loop ...\n",
    "\n",
    "... but we do know when to stop. This is called the \"while loop\".\n",
    "\n",
    "For example, we want to print all multiples of 0.13 from 0 to 1. But we don't know how many of those there are."
   ]
  },
  {
   "cell_type": "code",
   "execution_count": 7,
   "metadata": {},
   "outputs": [
    {
     "name": "stdout",
     "output_type": "stream",
     "text": [
      "0.13\n",
      "0.26\n",
      "0.39\n",
      "0.52\n",
      "0.65\n",
      "0.78\n",
      "0.91\n",
      "7\n"
     ]
    }
   ],
   "source": [
    "n = 0.13 \n",
    "i = 0\n",
    "\n",
    "while n < 1 :\n",
    "    print(n)\n",
    "    n = n + 0.13\n",
    "    #i = i + 1\n",
    "\n",
    "\n",
    "print(i)"
   ]
  },
  {
   "cell_type": "code",
   "execution_count": null,
   "metadata": {},
   "outputs": [],
   "source": [
    "for i in range(2, 10):   # loop over a few numbers \n",
    "    \n",
    "    if i % 5 == 0: \n",
    "        break \n",
    "        \n",
    "    print(i) \n",
    "\n",
    "        \n",
    "print(\"done\")\n"
   ]
  },
  {
   "cell_type": "code",
   "execution_count": null,
   "metadata": {},
   "outputs": [],
   "source": [
    "for i in range(2, 10):   # loop over a few numbers \n",
    "    \n",
    "    if i % 5 == 0: \n",
    "        continue \n",
    "        \n",
    "    print(i) \n",
    "\n",
    "        \n",
    "print(\"done\")"
   ]
  },
  {
   "cell_type": "code",
   "execution_count": null,
   "metadata": {},
   "outputs": [],
   "source": []
  }
 ],
 "metadata": {
  "kernelspec": {
   "display_name": "Python 3",
   "language": "python",
   "name": "python3"
  },
  "language_info": {
   "codemirror_mode": {
    "name": "ipython",
    "version": 3
   },
   "file_extension": ".py",
   "mimetype": "text/x-python",
   "name": "python",
   "nbconvert_exporter": "python",
   "pygments_lexer": "ipython3",
   "version": "3.8.3"
  }
 },
 "nbformat": 4,
 "nbformat_minor": 4
}
