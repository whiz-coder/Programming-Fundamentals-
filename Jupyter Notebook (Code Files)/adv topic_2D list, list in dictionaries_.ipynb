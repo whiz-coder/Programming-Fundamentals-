{
 "cells": [
  {
   "cell_type": "code",
   "execution_count": 28,
   "metadata": {},
   "outputs": [],
   "source": [
    "d = {\n",
    "    \"p20001\": \"ali\", \n",
    "    \"p20002\": \"fareeba\",\n",
    "    \"p20003\": \"haris\"\n",
    "} "
   ]
  },
  {
   "cell_type": "code",
   "execution_count": 29,
   "metadata": {},
   "outputs": [
    {
     "data": {
      "text/plain": [
       "'ali'"
      ]
     },
     "execution_count": 29,
     "metadata": {},
     "output_type": "execute_result"
    }
   ],
   "source": [
    "\n",
    "d[\"p20001\"]"
   ]
  },
  {
   "cell_type": "code",
   "execution_count": 45,
   "metadata": {},
   "outputs": [],
   "source": [
    "course = {\n",
    "    \"progamming fundamental\": [\"p20001\", \"p20002\", \"p20003\", \"p20004\", \"p20005\", \"p20006\", \"p20007\"],\n",
    "    \"progamming fundamental lab\": [\"p20001\", \"p20002\", \"p20003\", \"p20004\", \"p20005\", \"p20006\", \"p20007\",\"p20008\",\"p20009\"],\n",
    "    1:2\n",
    "} "
   ]
  },
  {
   "cell_type": "code",
   "execution_count": 46,
   "metadata": {},
   "outputs": [
    {
     "data": {
      "text/plain": [
       "2"
      ]
     },
     "execution_count": 46,
     "metadata": {},
     "output_type": "execute_result"
    }
   ],
   "source": [
    "course[1]"
   ]
  },
  {
   "cell_type": "code",
   "execution_count": 14,
   "metadata": {},
   "outputs": [
    {
     "name": "stdout",
     "output_type": "stream",
     "text": [
      "p20001\n",
      "p20002\n",
      "p20003\n",
      "p20004\n",
      "p20005\n",
      "p20006\n",
      "p20007\n"
     ]
    }
   ],
   "source": [
    "for i in course[\"progamming fundamental\"]:\n",
    "    print (i)"
   ]
  },
  {
   "cell_type": "code",
   "execution_count": 43,
   "metadata": {},
   "outputs": [
    {
     "name": "stdout",
     "output_type": "stream",
     "text": [
      "Already in class\n"
     ]
    }
   ],
   "source": [
    "if (\"p20010\" in course[\"progamming fundamental\"]):\n",
    "    print(\"Already in class\")\n",
    "    \n",
    "else:\n",
    "    course[\"progamming fundamental\"].append(\"p20010\")\n",
    "    print(\"Added in class\")"
   ]
  },
  {
   "cell_type": "code",
   "execution_count": 42,
   "metadata": {},
   "outputs": [
    {
     "data": {
      "text/plain": [
       "['p20001',\n",
       " 'p20002',\n",
       " 'p20003',\n",
       " 'p20004',\n",
       " 'p20005',\n",
       " 'p20006',\n",
       " 'p20007',\n",
       " 'p20010']"
      ]
     },
     "execution_count": 42,
     "metadata": {},
     "output_type": "execute_result"
    }
   ],
   "source": [
    "course[\"progamming fundamental\"]"
   ]
  },
  {
   "cell_type": "code",
   "execution_count": 16,
   "metadata": {},
   "outputs": [],
   "source": [
    "l=[\n",
    "    [1,2,3,4],\n",
    "    [5,6,7,8],\n",
    "    [9,10,11,12],\n",
    "    [13,14,15,16]\n",
    "]"
   ]
  },
  {
   "cell_type": "code",
   "execution_count": 17,
   "metadata": {
    "scrolled": true
   },
   "outputs": [
    {
     "name": "stdout",
     "output_type": "stream",
     "text": [
      "1 2 3 4 \n",
      "\n",
      "5 6 7 8 \n",
      "\n",
      "9 10 11 12 \n",
      "\n",
      "13 14 15 16 \n",
      "\n"
     ]
    }
   ],
   "source": [
    "for i in l:\n",
    "    for j in i:\n",
    "        print (j,end=\" \")\n",
    "    print(\"\\n\")"
   ]
  },
  {
   "cell_type": "code",
   "execution_count": 22,
   "metadata": {},
   "outputs": [
    {
     "data": {
      "text/plain": [
       "4"
      ]
     },
     "execution_count": 22,
     "metadata": {},
     "output_type": "execute_result"
    }
   ],
   "source": [
    "\n",
    "len(l)"
   ]
  },
  {
   "cell_type": "code",
   "execution_count": 25,
   "metadata": {},
   "outputs": [],
   "source": [
    "def sum_diagonal(l):\n",
    "    \n",
    "    sum=0\n",
    "    for i in range(len(l)):\n",
    "        sum+=l[i][i]\n",
    "        \n",
    "    \n",
    "    return sum\n"
   ]
  },
  {
   "cell_type": "code",
   "execution_count": 26,
   "metadata": {},
   "outputs": [
    {
     "name": "stdout",
     "output_type": "stream",
     "text": [
      "34\n"
     ]
    }
   ],
   "source": [
    "print(sum_diagonal(l))"
   ]
  },
  {
   "cell_type": "code",
   "execution_count": null,
   "metadata": {},
   "outputs": [],
   "source": []
  }
 ],
 "metadata": {
  "kernelspec": {
   "display_name": "Python 3",
   "language": "python",
   "name": "python3"
  },
  "language_info": {
   "codemirror_mode": {
    "name": "ipython",
    "version": 3
   },
   "file_extension": ".py",
   "mimetype": "text/x-python",
   "name": "python",
   "nbconvert_exporter": "python",
   "pygments_lexer": "ipython3",
   "version": "3.8.3"
  }
 },
 "nbformat": 4,
 "nbformat_minor": 4
}
