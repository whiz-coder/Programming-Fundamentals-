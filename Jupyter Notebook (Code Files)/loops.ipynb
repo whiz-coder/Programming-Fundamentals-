{
 "cells": [
  {
   "cell_type": "markdown",
   "metadata": {},
   "source": [
    "# 1.\tWrite a program to display the n terms of even number and their sum\n",
    "Sample output\n",
    "Input number of terms: 5\n",
    "The even numbers are: 2 4 6 8 10\n",
    "The Sum of even Natural Numbers upto 5 terms: 30\n",
    "\n"
   ]
  },
  {
   "cell_type": "code",
   "execution_count": 2,
   "metadata": {},
   "outputs": [
    {
     "name": "stdout",
     "output_type": "stream",
     "text": [
      "The even numbers are : \n",
      "2\n",
      "4\n",
      "6\n",
      "8\n",
      "10\n",
      "12\n",
      "14\n",
      "16\n",
      "18\n",
      "20\n",
      "The Sum of even Natural Numbers upto  10  terms:  110\n"
     ]
    }
   ],
   "source": [
    "number=10\n",
    "i=0\n",
    "value=1\n",
    "sum=0\n",
    "print(\"The even numbers are : \")\n",
    "while(i!=number):\n",
    "    if(value % 2==0):\n",
    "        sum+=value\n",
    "        print(value)\n",
    "        i+=1\n",
    "        value+=1\n",
    "    else:\n",
    "        value+=1\n",
    "    \n",
    "print(\"The Sum of even Natural Numbers upto \",number,\" terms: \",sum)\n",
    "        \n",
    "    "
   ]
  },
  {
   "cell_type": "markdown",
   "metadata": {},
   "source": [
    "# 2.\tGenerate a random number between 1 and 9 (including 1 and 9). Ask the user to guess the number, then tell them whether they guessed too low, too high, or exactly right. Repeat this process until user guess the accurate number or he/she do not want to continue \n",
    "Hint: user input, for random \n",
    "import random\n",
    "a=random.randint(1, 9)\n"
   ]
  },
  {
   "cell_type": "code",
   "execution_count": 3,
   "metadata": {},
   "outputs": [
    {
     "name": "stdout",
     "output_type": "stream",
     "text": [
      "1\n",
      "Enter a number between 1 to 9 to guess? 0\n",
      "The number you enetered is lower than the guess number\n",
      "Do you want to guess again(y/n)? n\n"
     ]
    }
   ],
   "source": [
    "import random \n",
    "a=random.randint(1, 9)\n",
    "print (a)\n",
    "option =\"y\"\n",
    "guess=-1\n",
    "while(option==\"y\" and guess!=a):\n",
    "    \n",
    "    guess=int(input(\"Enter a number between 1 to 9 to guess? \"))\n",
    "    \n",
    "    if(guess==a):\n",
    "        print(\"found\")\n",
    "        \n",
    "    elif(guess>a):\n",
    "        print(\"The number you enetered is greater than the guess number\")\n",
    "        option=input(\"Do you want to guess again(y/n)? \")\n",
    "\n",
    "    else:\n",
    "        print(\"The number you enetered is lower than the guess number\")\n",
    "        option=input(\"Do you want to guess again(y/n)? \")\n",
    "    "
   ]
  },
  {
   "cell_type": "markdown",
   "metadata": {},
   "source": [
    "# 3.\tA carpet cleaning company estimates cleaning prices \n",
    "assuming a room size of 10 feet by 12 feet at a cost of $39. \n",
    "Rooms smaller than 10 feet by 12 feet are charged at the standard room size. \n",
    "Rooms larger than 10 by 12 feet are charged the standard rate plus $.25 per square foot for each foot greater than the standard room size. \n",
    "Design a program that asks the user for the number of rooms to be cleaned and the size of each room. \n",
    "Calculate the total cost of cleaning the rooms. \n"
   ]
  },
  {
   "cell_type": "code",
   "execution_count": 6,
   "metadata": {},
   "outputs": [
    {
     "name": "stdout",
     "output_type": "stream",
     "text": [
      "Enter Number of rooms to be cleaned?: 2\n",
      "Enter the size of room  1\n",
      "Enter length: 10\n",
      "Enter width: 12\n",
      "The cleaning cost of room  1 : $ 39\n",
      "Enter the size of room  2\n",
      "Enter length: 15\n",
      "Enter width: 18\n",
      "The cleaning cost of room 2 : $ 76.5\n",
      "The total cost of cleaning  2  rooms:  115.5\n"
     ]
    }
   ],
   "source": [
    "def cal_area(length, width):\n",
    "    return length*width\n",
    "\n",
    "sum=0\n",
    "standard=cal_area(10,12)\n",
    "n=int(input(\"Enter Number of rooms to be cleaned?: \" ))\n",
    "for i in range(n):\n",
    "    print(\"Enter the size of room \",i+1)\n",
    "    l=int(input(\"Enter length: \"))\n",
    "    w=int(input(\"Enter width: \"))\n",
    "    s=cal_area(l,w)\n",
    "    if(standard==s):\n",
    "        cost=39\n",
    "        sum+=cost\n",
    "        print(\"The cleaning cost of room \",i+1, \": $\",cost)\n",
    "    elif (standard > s):\n",
    "        cost=39\n",
    "        sum+=cost\n",
    "        print(\"The cleaning cost of room \",i+1, \": $\",cost)\n",
    "    else:\n",
    "        extra=s-standard\n",
    "        cost=39+(extra*0.25)\n",
    "        sum+=cost\n",
    "        print(\"The cleaning cost of room\",i+1, \": $\",cost)\n",
    "\n",
    "print(\"The total cost of cleaning \",n,\" rooms: \",sum)\n",
    "\n",
    "\n"
   ]
  },
  {
   "cell_type": "markdown",
   "metadata": {},
   "source": [
    "# 4.\tWrite a Python Function to check whether an alphabet is a vowel or not and it return true and false. Your program should ask the user to input an alphabet\n",
    "VOWELS ARE (A,E,I,O,U)\n"
   ]
  },
  {
   "cell_type": "code",
   "execution_count": 4,
   "metadata": {},
   "outputs": [],
   "source": [
    "def is_vowel(alpha):\n",
    "    if(alpha==\"a\" or alpha==\"e\" or alpha==\"i\" or alpha==\"o\" or alpha==\"u\" or alpha==\"A\" or alpha==\"E\" or alpha==\"I\" or alpha==\"O\" or alpha==\"U\"):\n",
    "        return True\n",
    "    else:\n",
    "        return False"
   ]
  },
  {
   "cell_type": "code",
   "execution_count": 6,
   "metadata": {},
   "outputs": [
    {
     "name": "stdout",
     "output_type": "stream",
     "text": [
      "Input an alphabet: e\n",
      "Entered alphabet is vowel\n"
     ]
    }
   ],
   "source": [
    "alpha=input(\"Input an alphabet: \")\n",
    "\n",
    "a= is_vowel(alpha)\n",
    "if(a==True):\n",
    "    print(\"Entered alphabet is vowel\")\n",
    "else:\n",
    "    print(\"Entered alphabet is not vowel\")"
   ]
  },
  {
   "cell_type": "markdown",
   "metadata": {},
   "source": [
    "# write a program that finds the number of vowels appeard in a sentence or paragraph"
   ]
  },
  {
   "cell_type": "code",
   "execution_count": 5,
   "metadata": {},
   "outputs": [
    {
     "name": "stdout",
     "output_type": "stream",
     "text": [
      "Input an string to check the vowels: hi,i am in PF class\n",
      "Total number of vowels in  hi,i am in PF class is :  5\n"
     ]
    }
   ],
   "source": [
    "alpha=input(\"Input an string to check the vowels: \")\n",
    "sum=0\n",
    "for i in alpha:\n",
    "    \n",
    "    a= is_vowel(i)\n",
    "    if(a==True):\n",
    "        #print(\"vowel found\")\n",
    "        sum+=1\n",
    "    else:\n",
    "        pass\n",
    "print(\"Total number of vowels in \",alpha,\"is : \",sum)"
   ]
  },
  {
   "cell_type": "markdown",
   "metadata": {},
   "source": [
    "While-> conditonal loop\n",
    "condition -> ture -> execute\n",
    "condition -> false -> loop execution stop\n",
    "\n",
    "\n"
   ]
  },
  {
   "cell_type": "code",
   "execution_count": 8,
   "metadata": {},
   "outputs": [
    {
     "name": "stdout",
     "output_type": "stream",
     "text": [
      "Inside while loop\n",
      "Do you want contine (y/n)?y\n",
      "Inside while loop\n",
      "Do you want contine (y/n)?y\n",
      "Inside while loop\n",
      "Do you want contine (y/n)?y\n",
      "Inside while loop\n",
      "Do you want contine (y/n)?n\n",
      "Outside while loop\n"
     ]
    }
   ],
   "source": [
    "choice=\"y\"\n",
    "\n",
    "\n"
   ]
  },
  {
   "cell_type": "code",
   "execution_count": null,
   "metadata": {},
   "outputs": [],
   "source": []
  }
 ],
 "metadata": {
  "kernelspec": {
   "display_name": "Python 3",
   "language": "python",
   "name": "python3"
  },
  "language_info": {
   "codemirror_mode": {
    "name": "ipython",
    "version": 3
   },
   "file_extension": ".py",
   "mimetype": "text/x-python",
   "name": "python",
   "nbconvert_exporter": "python",
   "pygments_lexer": "ipython3",
   "version": "3.8.3"
  }
 },
 "nbformat": 4,
 "nbformat_minor": 4
}
