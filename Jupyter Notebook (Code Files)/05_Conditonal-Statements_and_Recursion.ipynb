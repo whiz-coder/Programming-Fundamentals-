{
 "cells": [
  {
   "cell_type": "markdown",
   "metadata": {},
   "source": [
    "# Compound statements take the form:\n",
    "\n"
   ]
  },
  {
   "cell_type": "markdown",
   "metadata": {},
   "source": [
    "Compound statements take the form:\n",
    "\n",
    "<header>:\n",
    "    <statement>\n",
    "    <statement>\n",
    "    ...\n",
    "<separating header>:\n",
    "    <statement>\n",
    "    <statement>\n",
    "    ...\n",
    "..."
   ]
  },
  {
   "cell_type": "markdown",
   "metadata": {},
   "source": [
    "One example of compound statement is function definiton"
   ]
  },
  {
   "cell_type": "code",
   "execution_count": null,
   "metadata": {},
   "outputs": [],
   "source": [
    "def square(x):\n",
    "   # print(\"value of x is:\", x)\n",
    "    return x*x\n",
    "\n",
    "result = square(5)\n"
   ]
  },
  {
   "cell_type": "markdown",
   "metadata": {},
   "source": [
    "Another example of compound statement is branching/conditional statement."
   ]
  },
  {
   "cell_type": "markdown",
   "metadata": {},
   "source": [
    "if  conditional_expression:\n",
    "    do this"
   ]
  },
  {
   "cell_type": "code",
   "execution_count": null,
   "metadata": {},
   "outputs": [],
   "source": [
    "x = 5\n",
    "if x<=5:\n",
    "    print(\"The value of x is less than or equal to 5\")\n",
    "    print(\"That's great\")\n",
    "    \n",
    "\n"
   ]
  },
  {
   "cell_type": "code",
   "execution_count": null,
   "metadata": {},
   "outputs": [],
   "source": [
    "x = 5\n",
    "if x<=5:\n",
    "    print(\"The value of x is less than or equal to 5\")\n",
    "print(\"That's great\")"
   ]
  },
  {
   "cell_type": "code",
   "execution_count": null,
   "metadata": {},
   "outputs": [],
   "source": [
    "dice_value = 5\n",
    "if dice_value == 6:\n",
    "    print(\"You have got a six.\")\n",
    "    print(\"You can again throw the dice\")"
   ]
  },
  {
   "cell_type": "code",
   "execution_count": null,
   "metadata": {},
   "outputs": [],
   "source": [
    "dice_value = 5\n",
    "\n",
    "if dice_value == 6:\n",
    "    print(\"You have got a six.\")\n",
    "\n",
    "print(\"You can again throw the dice\")"
   ]
  },
  {
   "cell_type": "code",
   "execution_count": null,
   "metadata": {},
   "outputs": [],
   "source": [
    "if False:\n",
    "    print(\"hello\")\n"
   ]
  },
  {
   "cell_type": "markdown",
   "metadata": {},
   "source": [
    "if  conditional_expression:\n",
    "    do this\n",
    "else\n",
    "    do that\n"
   ]
  },
  {
   "cell_type": "code",
   "execution_count": null,
   "metadata": {},
   "outputs": [],
   "source": [
    "dice_value = 6\n",
    "\n",
    "if dice_value == 6:\n",
    "    print(\"You have got a six.\")\n",
    "    print(\"You can again throw the dice\")\n",
    "else:\n",
    "    print(\"Your turn is over\")\n",
    "print(\"Game is over.\")"
   ]
  },
  {
   "cell_type": "code",
   "execution_count": null,
   "metadata": {},
   "outputs": [],
   "source": [
    "marks = 80\n",
    "\n",
    "if marks>=80:\n",
    "    print(\"You have got an A grade.\")\n",
    "elif marks<80 and marks>=70:\n",
    "    print(\"You have got B grade.\")\n",
    "elif marks<70 and marks>=60:\n",
    "    print(\"You have got C grade.\")\n",
    "elif marks<60 and marks>=50:\n",
    "     print(\"You have got C grade.\")\n",
    "else:\n",
    "    print(\"Sorry! You have got F grade.\")\n",
    "\n",
    "\n",
    "\n",
    "    \n"
   ]
  },
  {
   "cell_type": "code",
   "execution_count": null,
   "metadata": {},
   "outputs": [],
   "source": [
    "marks = 49\n",
    "\n",
    "if marks>=80:\n",
    "    print(\"You have got an A grade.\")\n",
    "elif marks<80 and marks>=70:\n",
    "    print(\"You have got B grade.\")\n",
    "elif marks<70 and marks>=60:\n",
    "    print(\"You have got C grade.\")\n",
    "elif marks<60 and marks>=50:\n",
    "     print(\"You have got C grade.\")\n",
    "else:\n",
    "    print(\"Sorry! You have got F grade.\")\n"
   ]
  },
  {
   "cell_type": "markdown",
   "metadata": {},
   "source": [
    "If you have more than two options to check, use \n",
    "\n",
    "if condition:\n",
    "    do this\n",
    "elif condition:\n",
    "    do this\n",
    "elif condition:\n",
    "    do this\n",
    ".\n",
    ".\n",
    ".\n",
    ".\n",
    "else\n",
    "    do this"
   ]
  },
  {
   "cell_type": "markdown",
   "metadata": {},
   "source": [
    "Write down a function that returns the absolute value of a number provided."
   ]
  },
  {
   "cell_type": "code",
   "execution_count": null,
   "metadata": {},
   "outputs": [],
   "source": [
    "def absolute(x):\n",
    "    if(x==0):\n",
    "        return 0\n",
    "    elif(x>0):\n",
    "        return x\n",
    "    else:\n",
    "        return -x\n",
    "\n",
    "num = 6\n",
    "print(\"The absolute value of\",num, \"is \", absolute(num))\n",
    "    \n",
    "    "
   ]
  },
  {
   "cell_type": "code",
   "execution_count": null,
   "metadata": {},
   "outputs": [],
   "source": [
    "def absolute(x):\n",
    "    if(x>=0):\n",
    "        return x\n",
    "    \n",
    "    else:\n",
    "        return -x\n",
    "\n",
    "num = -6\n",
    "print(\"The absolute value of\",num, \"is \", absolute(num))"
   ]
  },
  {
   "cell_type": "markdown",
   "metadata": {},
   "source": [
    "Nesting of branching statement"
   ]
  },
  {
   "cell_type": "code",
   "execution_count": null,
   "metadata": {},
   "outputs": [],
   "source": [
    "if num >= 0:\n",
    "    if num == 0:\n",
    "        print(\"Zero\")\n",
    "    else:\n",
    "        print(\"Positive number\")\n",
    "else:\n",
    "    print(\"Negative number\")"
   ]
  },
  {
   "cell_type": "code",
   "execution_count": null,
   "metadata": {},
   "outputs": [],
   "source": [
    "def is_weekday(day, month, year): \n",
    "    import datetime\n",
    "    return datetime.datetime(year=year, month=month, day=day).weekday() < 5"
   ]
  },
  {
   "cell_type": "code",
   "execution_count": null,
   "metadata": {},
   "outputs": [],
   "source": [
    "if is_weekday(13, 10, 2020):\n",
    "    print(\"It's a weekday.\")\n",
    "else: \n",
    "    print(\"Weekend!!\")\n",
    "    \n"
   ]
  }
 ],
 "metadata": {
  "kernelspec": {
   "display_name": "Python 3",
   "language": "python",
   "name": "python3"
  },
  "language_info": {
   "codemirror_mode": {
    "name": "ipython",
    "version": 3
   },
   "file_extension": ".py",
   "mimetype": "text/x-python",
   "name": "python",
   "nbconvert_exporter": "python",
   "pygments_lexer": "ipython3",
   "version": "3.8.3"
  }
 },
 "nbformat": 4,
 "nbformat_minor": 4
}
