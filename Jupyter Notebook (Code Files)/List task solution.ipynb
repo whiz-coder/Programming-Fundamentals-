{
 "cells": [
  {
   "cell_type": "markdown",
   "metadata": {},
   "source": [
    "# LIST Pratice"
   ]
  },
  {
   "cell_type": "raw",
   "metadata": {},
   "source": [
    "Write a Python program to find the list of words that are longer than n from a given list of words\n"
   ]
  },
  {
   "cell_type": "code",
   "execution_count": 7,
   "metadata": {},
   "outputs": [
    {
     "name": "stdout",
     "output_type": "stream",
     "text": [
      "fareeba\n",
      "Mashal\n",
      "haider\n"
     ]
    }
   ],
   "source": [
    "L=[\"ali\",\"fareeba\",\"Mashal\",\"haider\"]\n",
    "n=4\n",
    "for i in L:\n",
    "    if(len(i)>=n):\n",
    "        print (i)"
   ]
  },
  {
   "cell_type": "raw",
   "metadata": {},
   "source": [
    "Write a Python program to remove duplicates from a list.\n"
   ]
  },
  {
   "cell_type": "code",
   "execution_count": 9,
   "metadata": {},
   "outputs": [
    {
     "name": "stdout",
     "output_type": "stream",
     "text": [
      "[2, 3, 4, 5, 6]\n"
     ]
    }
   ],
   "source": [
    "l=[2,3,4,3,4,5,5,6]\n",
    "u=[]\n",
    "\n",
    "for i in l:\n",
    "    if i not in u:\n",
    "        u.append(i)\n",
    "\n",
    "print (u)"
   ]
  },
  {
   "cell_type": "raw",
   "metadata": {},
   "source": [
    "Write a Python program to multiplies all the items in a list\n"
   ]
  },
  {
   "cell_type": "code",
   "execution_count": 11,
   "metadata": {},
   "outputs": [
    {
     "name": "stdout",
     "output_type": "stream",
     "text": [
      "43200\n"
     ]
    }
   ],
   "source": [
    "l=[2,3,4,3,4,5,5,6]\n",
    "mul=1\n",
    "for i in l:\n",
    "    mul*=i\n",
    "print (mul)\n",
    "    "
   ]
  },
  {
   "cell_type": "raw",
   "metadata": {},
   "source": [
    "Take 10 integer inputs from user and store them in a list. Again ask user to give a number. Now, tell user whether that number is present in list or not. ( Iterate over list using while loop ).\n"
   ]
  },
  {
   "cell_type": "code",
   "execution_count": null,
   "metadata": {},
   "outputs": [
    {
     "name": "stdout",
     "output_type": "stream",
     "text": [
      "Enter Number: 1\n",
      "Enter Number: 23\n",
      "Enter Number: 4\n",
      "Enter Number: 5\n",
      "Enter Number: 6\n",
      "Enter Number: 7\n",
      "Enter Number: 8\n",
      "Enter Number: 9\n",
      "Enter Number: 10\n",
      "Enter Number: 11\n",
      "[1, 23, 4, 5, 6, 7, 8, 9, 10, 11]\n"
     ]
    }
   ],
   "source": [
    "l=[]\n",
    "i=1\n",
    "while (i<11):\n",
    "    n=int(input(\"Enter Number: \"))\n",
    "    l.append(n)\n",
    "    i+=1\n",
    "print (l)\n",
    "c=int(input(\"Enter the number to check in a list\"))\n",
    "i=0\n",
    "\n",
    "flag=False\n",
    "while(i<10 and flag!= True):\n",
    "    if(l[i]==c):\n",
    "        flag=True\n",
    "    else:\n",
    "        i=i+1\n",
    "        \n",
    "if(flag==True):\n",
    "    print(\"Number is Present\")\n",
    "else:\n",
    "    print(\"Number is Not Present\")\n",
    "        \n",
    "    "
   ]
  },
  {
   "cell_type": "code",
   "execution_count": null,
   "metadata": {},
   "outputs": [],
   "source": []
  }
 ],
 "metadata": {
  "kernelspec": {
   "display_name": "Python 3",
   "language": "python",
   "name": "python3"
  },
  "language_info": {
   "codemirror_mode": {
    "name": "ipython",
    "version": 3
   },
   "file_extension": ".py",
   "mimetype": "text/x-python",
   "name": "python",
   "nbconvert_exporter": "python",
   "pygments_lexer": "ipython3",
   "version": "3.8.3"
  }
 },
 "nbformat": 4,
 "nbformat_minor": 4
}
