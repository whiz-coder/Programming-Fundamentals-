{
 "cells": [
  {
   "cell_type": "markdown",
   "metadata": {},
   "source": [
    "# OS module"
   ]
  },
  {
   "cell_type": "markdown",
   "metadata": {},
   "source": [
    "\n",
    "# 1. Handling the Current Working Directory\n"
   ]
  },
  {
   "cell_type": "raw",
   "metadata": {},
   "source": [
    "# Consider Current Working Directory(CWD) as a folder, where the Python is operating. Whenever the files are called only by their name, Python assumes that it starts in the CWD which means that name-only reference will be successful only if the file is in the Python’s CWD.\n",
    "\n",
    "Note: The folder where the Python script is running is known as the Current Directory. This is not the path where the Python script is located."
   ]
  },
  {
   "cell_type": "code",
   "execution_count": 1,
   "metadata": {},
   "outputs": [
    {
     "name": "stdout",
     "output_type": "stream",
     "text": [
      "Current working directory: C:\\Users\\Lenovo\\Desktop\\pyhton\n"
     ]
    }
   ],
   "source": [
    "#os.chdir('C:\\\\Users\\\\Lenovo\\\\Desktop\\\\pyhton')\n",
    "#D:\\filehandling\\abc.txt\n",
    "\n",
    "# Python program to explain os.getcwd() method\n",
    "\n",
    "# importing os module\n",
    "import os\n",
    "\n",
    "# Get the current working\n",
    "# directory (CWD)\n",
    "cwd = os.getcwd()\n",
    "\n",
    "# Print the current working\n",
    "# directory (CWD)\n",
    "print(\"Current working directory:\", cwd)\n"
   ]
  },
  {
   "cell_type": "markdown",
   "metadata": {},
   "source": [
    "# 2. Changing the Current working directory"
   ]
  },
  {
   "cell_type": "raw",
   "metadata": {},
   "source": [
    "To change the current working directory(CWD) os.chdir() method is used. This method changes the CWD to a specified path. It only takes a single argument as a new directory path."
   ]
  },
  {
   "cell_type": "code",
   "execution_count": 3,
   "metadata": {},
   "outputs": [
    {
     "name": "stdout",
     "output_type": "stream",
     "text": [
      "Current working directory before\n",
      "D:\\filehandling\n",
      "\n",
      "Current working directory after\n",
      "D:\\\n"
     ]
    }
   ],
   "source": [
    "# Python program to change the\n",
    "# current working directory\n",
    "import os\n",
    "\n",
    "print(\"Current working directory before\") \n",
    "dir=os.getcwd()\n",
    "print(dir)\n",
    "# Changing the CWD\n",
    "\n",
    "os.chdir('../')\n",
    "#os.chdir(\"D://filehandling/\")\n",
    "print(\"\\nCurrent working directory after\") \n",
    "dir=os.getcwd()\n",
    "print(dir)\n",
    "# Printing CWD after\n"
   ]
  },
  {
   "cell_type": "markdown",
   "metadata": {},
   "source": [
    "# 3. Creating a Directory"
   ]
  },
  {
   "cell_type": "raw",
   "metadata": {},
   "source": [
    "There are different methods available in the OS module for creating a director. These are \n",
    "os.mkdir()\n",
    "os.makedirs()"
   ]
  },
  {
   "cell_type": "markdown",
   "metadata": {},
   "source": [
    "### Using os.mkdir()\n",
    "\n",
    "os.mkdir() method in Python is used to create a directory named path with the specified numeric mode. This method raise FileExistsError if the directory to be created already exists."
   ]
  },
  {
   "cell_type": "code",
   "execution_count": 5,
   "metadata": {},
   "outputs": [
    {
     "name": "stdout",
     "output_type": "stream",
     "text": [
      "locating to the directory\n",
      "D://filehandling/abc\n",
      "Creating directory\n",
      "directory created\n"
     ]
    }
   ],
   "source": [
    "# importing os module \n",
    "import os \n",
    "  \n",
    "# Directory \n",
    "directory = \"abc\"\n",
    "  \n",
    "# Parent Directory path \n",
    "parent_dir = \"D://filehandling/\"\n",
    "  \n",
    "# Path \n",
    "path = os.path.join(parent_dir, directory)\n",
    "print(\"locating to the directory\")\n",
    "print (path)\n",
    "\n",
    "print(\"Creating directory\")\n",
    "os.mkdir(path)\n",
    "\n",
    "print(\"directory created\")\n",
    "\n"
   ]
  },
  {
   "cell_type": "markdown",
   "metadata": {},
   "source": [
    "### Using os.makedirs()\n",
    "\n",
    "os.makedirs() method in Python is used to create a directory recursively. That means while making leaf directory if any intermediate-level directory is missing, os.makedirs() method will create them all."
   ]
  },
  {
   "cell_type": "code",
   "execution_count": 9,
   "metadata": {},
   "outputs": [
    {
     "name": "stdout",
     "output_type": "stream",
     "text": [
      "locating to the directory\n",
      "D://filehandling/xyz\\abc\n",
      "Creating directory\n",
      "directory created\n"
     ]
    }
   ],
   "source": [
    "# importing os module \n",
    "import os \n",
    "  \n",
    "# Directory \n",
    "directory = \"abc\"\n",
    "  \n",
    "# Parent Directory path \n",
    "parent_dir = \"D://filehandling/xyz\"\n",
    "  \n",
    "# Path \n",
    "path = os.path.join(parent_dir, directory)\n",
    "print(\"locating to the directory\")\n",
    "print (path)\n",
    "\n",
    "print(\"Creating directory\")\n",
    "#os.mkdir(path)\n",
    "os.makedirs(path)\n",
    "\n",
    "print(\"directory created\")"
   ]
  },
  {
   "cell_type": "markdown",
   "metadata": {},
   "source": [
    "# 4. Listing out Files and Directories with Python\n",
    "os.listdir() method in Python is used to get the list of all files and directories in the specified directory. If we don’t specify any directory, then list of files and directories in the current working directory will be returned."
   ]
  },
  {
   "cell_type": "code",
   "execution_count": 12,
   "metadata": {},
   "outputs": [
    {
     "name": "stdout",
     "output_type": "stream",
     "text": [
      "Files and directories in ' D://Teaching lecturership//Spring 2021//PF ' :\n",
      "['01_expressions.ipynb', '02_variables_library_functions_.ipynb', '03_Defining_Functions.ipynb', '04_defining_functions_part2.ipynb', '05_Conditional Statements.ipynb', '05_Conditional_Statements_part2.ipynb', '05_Conditonal-Statements_and_Recursion.ipynb', '06_Iteration.ipynb', '07_Sequences_part2.ipynb', '07_Sequenece_List_Part1.ipynb', '08_Dictionary.ipynb', '09_FileHandling_part1.ipynb', '10_ExceptionHandling.ipynb', '11_String Formatting.ipynb', '12_Plotting.ipynb', '9_FileHandling_Part2.ipynb', 'Assign01.docx', 'Assign01.pdf', 'C++ Programming DS Malik 5th Edition.pdf', 'Class task1.docx', 'Conditional Statements tasks solution.pdf', 'Conditional Statements tasks.docx', 'Conditional Statements tasks.pdf', 'Conditional Statements.pptx', 'Lists.pptx', 'String as a Sequence.pptx', 'Task 5 [lists].docx', 'Task 5 [lists].pdf', 'task1 pf.docx', 'task2.docx', 'Tentaive outline.docx', '~$Lists.pptx', '~$ntaive outline.docx', '~$task2.docx']\n"
     ]
    }
   ],
   "source": [
    "# importing os module \n",
    "import os \n",
    "  \n",
    "# Get the list of all files and directories \n",
    "# in the root directory \n",
    "path = \"D://Teaching lecturership//Spring 2021//PF\"\n",
    "dir_list = os.listdir(path) \n",
    "  \n",
    "print(\"Files and directories in '\", path, \"' :\") \n",
    "  \n",
    "# print the list \n",
    "print(dir_list) "
   ]
  },
  {
   "cell_type": "markdown",
   "metadata": {},
   "source": [
    "# 5. Deleting Directory or Files using Python\n",
    "\n",
    "OS module proves different methods for removing directories and files in Python. These are –\n",
    "\n",
    "Using os.remove()\n",
    "Using os.rmdir()"
   ]
  },
  {
   "cell_type": "markdown",
   "metadata": {},
   "source": [
    "### Using os.remove()\n",
    "\n",
    "os.remove() method in Python is used to remove or delete a file path. This method can not remove or delete a directory. If the specified path is a directory then OSError will be raised by the method.\n",
    "\n"
   ]
  },
  {
   "cell_type": "code",
   "execution_count": 13,
   "metadata": {},
   "outputs": [
    {
     "name": "stdout",
     "output_type": "stream",
     "text": [
      "D:\\filehandling\\test.txt\n",
      "test.txt Removed\n"
     ]
    }
   ],
   "source": [
    "# Python program to explain os.remove() method \n",
    "      \n",
    "# importing os module \n",
    "import os \n",
    "\n",
    "\n",
    "file = 'test.txt'\n",
    "      \n",
    "# File location \n",
    "location = \"D:\\\\filehandling\\\\\"\n",
    "      \n",
    "# Path \n",
    "path = os.path.join(location, file) \n",
    "print (path)\n",
    "      \n",
    "# Remove the file \n",
    "# 'file.txt' \n",
    "os.remove(path) \n",
    "print(file, \"Removed\")\n"
   ]
  },
  {
   "cell_type": "markdown",
   "metadata": {},
   "source": [
    "### Using os.rmdir()\n",
    "\n",
    "os.rmdir() method in Python is used to remove or delete a empty directory. OSError will be raised if the specified path is not an empty directory."
   ]
  },
  {
   "cell_type": "code",
   "execution_count": 17,
   "metadata": {},
   "outputs": [
    {
     "name": "stdout",
     "output_type": "stream",
     "text": [
      "xyz Removed\n"
     ]
    }
   ],
   "source": [
    "# Python program to explain os.rmdir() method \n",
    "      \n",
    "# importing os module \n",
    "import os \n",
    "      \n",
    "# Directory name \n",
    "directory = \"xyz\"\n",
    "      \n",
    "# Parent Directory \n",
    "parent = \"D:\\\\filehandling\"\n",
    "      \n",
    "# Path \n",
    "path = os.path.join(parent, directory) \n",
    "      \n",
    "# Remove the Directory \n",
    "# \"Geeks\" \n",
    "os.rmdir(path) \n",
    "print(directory, \"Removed\")"
   ]
  },
  {
   "cell_type": "code",
   "execution_count": null,
   "metadata": {},
   "outputs": [],
   "source": []
  }
 ],
 "metadata": {
  "kernelspec": {
   "display_name": "Python 3",
   "language": "python",
   "name": "python3"
  },
  "language_info": {
   "codemirror_mode": {
    "name": "ipython",
    "version": 3
   },
   "file_extension": ".py",
   "mimetype": "text/x-python",
   "name": "python",
   "nbconvert_exporter": "python",
   "pygments_lexer": "ipython3",
   "version": "3.8.3"
  }
 },
 "nbformat": 4,
 "nbformat_minor": 4
}
