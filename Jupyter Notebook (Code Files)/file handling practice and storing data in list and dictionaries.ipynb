{
 "cells": [
  {
   "cell_type": "code",
   "execution_count": 6,
   "metadata": {},
   "outputs": [],
   "source": [
    "file= open(\"data.txt\",'r')"
   ]
  },
  {
   "cell_type": "raw",
   "metadata": {},
   "source": [
    "data.txt:\n",
    "p20001\n",
    "p20002\n",
    "p20003\n",
    "p20004\n",
    "p20005"
   ]
  },
  {
   "cell_type": "code",
   "execution_count": 7,
   "metadata": {},
   "outputs": [
    {
     "name": "stdout",
     "output_type": "stream",
     "text": [
      "['p20001', 'p20002', 'p20003', 'p20004', 'p20005', 'p20001', 'p20002', 'p20003', 'p20004', 'p20005', 'p20001', 'p20002', 'p20003', 'p20004', 'p20005', 'p20001', 'p20002', 'p20003', 'p20004', 'p20005']\n"
     ]
    }
   ],
   "source": [
    "file= open(\"data.txt\",'r')\n",
    "roll_no=[]\n",
    "\n",
    "for line in file:\n",
    "    roll_no.append(line.strip())\n",
    "    \n",
    "print(roll_no)"
   ]
  },
  {
   "cell_type": "code",
   "execution_count": 31,
   "metadata": {},
   "outputs": [
    {
     "name": "stdout",
     "output_type": "stream",
     "text": [
      "ooops not in list\n"
     ]
    }
   ],
   "source": [
    "found=False\n",
    "\n",
    "for i in roll_no:\n",
    "    if \"p20006\" == i:\n",
    "        found=True\n",
    "        \n",
    "        \n",
    "        \n",
    "if (found==True):\n",
    "    print(\"This roll number exists already\")\n",
    "else:\n",
    "    print(\"ooops not in list\")"
   ]
  },
  {
   "cell_type": "code",
   "execution_count": 9,
   "metadata": {},
   "outputs": [
    {
     "data": {
      "text/plain": [
       "True"
      ]
     },
     "execution_count": 9,
     "metadata": {},
     "output_type": "execute_result"
    }
   ],
   "source": [
    "\"p20002\" in roll_no"
   ]
  },
  {
   "cell_type": "raw",
   "metadata": {},
   "source": [
    "data2.txt:\n",
    "\n",
    "p20001 fareeb\n",
    "p20002 raza\n",
    "p20003 fatima\n",
    "p20004 shaheer\n",
    "p20005 ali    \n"
   ]
  },
  {
   "cell_type": "code",
   "execution_count": 15,
   "metadata": {},
   "outputs": [],
   "source": [
    "d = {}\n",
    "with open(\"data2.txt\") as f:\n",
    "    for line in f:\n",
    "        (key, val) = line.split()\n",
    "        d[key] = val\n",
    "        #print (line.split())\n",
    "        \n",
    "#print (f.closed)"
   ]
  },
  {
   "cell_type": "code",
   "execution_count": 16,
   "metadata": {},
   "outputs": [
    {
     "data": {
      "text/plain": [
       "{'p20001': 'fareeb',\n",
       " 'p20002': 'raza',\n",
       " 'p20003': 'fatima',\n",
       " 'p20004': 'shaheer',\n",
       " 'p20005': 'ali',\n",
       " 'p20008': 'wajeeha'}"
      ]
     },
     "execution_count": 16,
     "metadata": {},
     "output_type": "execute_result"
    }
   ],
   "source": [
    "d"
   ]
  },
  {
   "cell_type": "raw",
   "metadata": {},
   "source": [
    "text.txt:\n",
    "A programming language is a formal language comprising a set of instructions that produce various kinds of output. Programming languages are used in computer programming to implement algorithms. Most programming languages consist of instructions for computers.\n"
   ]
  },
  {
   "cell_type": "code",
   "execution_count": 18,
   "metadata": {},
   "outputs": [
    {
     "name": "stdout",
     "output_type": "stream",
     "text": [
      "found\n"
     ]
    }
   ],
   "source": [
    "#find a specific word in a file\n",
    "\n",
    "with open(\"text.txt\", 'r') as f:\n",
    "    #data=f.read()\n",
    "    for line in f:\n",
    "        if \"is\"in line:\n",
    "            print(\"found\")"
   ]
  },
  {
   "cell_type": "code",
   "execution_count": 26,
   "metadata": {},
   "outputs": [
    {
     "name": "stdout",
     "output_type": "stream",
     "text": [
      "programming  appeared  3  no of times in a file\n"
     ]
    }
   ],
   "source": [
    "#find a number of time a word appears in a file\n",
    "\n",
    "with open(\"text.txt\", 'r') as f:\n",
    "    data=f.read()\n",
    "    for line in f:\n",
    "        res=line.split()\n",
    "search=\"programming\"\n",
    "count=0\n",
    "for i in res:\n",
    "    if (search== i):\n",
    "        count=count+1\n",
    "print(search,\" appeared \",count,\" no of times in a file\")\n",
    "        "
   ]
  },
  {
   "cell_type": "code",
   "execution_count": null,
   "metadata": {},
   "outputs": [],
   "source": []
  }
 ],
 "metadata": {
  "kernelspec": {
   "display_name": "Python 3",
   "language": "python",
   "name": "python3"
  },
  "language_info": {
   "codemirror_mode": {
    "name": "ipython",
    "version": 3
   },
   "file_extension": ".py",
   "mimetype": "text/x-python",
   "name": "python",
   "nbconvert_exporter": "python",
   "pygments_lexer": "ipython3",
   "version": "3.8.3"
  }
 },
 "nbformat": 4,
 "nbformat_minor": 4
}
