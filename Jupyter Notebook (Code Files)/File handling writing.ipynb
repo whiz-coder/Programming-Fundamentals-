{
 "cells": [
  {
   "cell_type": "code",
   "execution_count": 34,
   "metadata": {},
   "outputs": [
    {
     "name": "stdout",
     "output_type": "stream",
     "text": [
      "28\n"
     ]
    }
   ],
   "source": [
    "filename=\"Output.txt\"\n",
    "\n",
    "with open(filename,'w') as file:\n",
    "    file.write(\"hi i am in programming class\")\n",
    "    print(file.tell())\n",
    "    file.seek(10)\n",
    "    file.write(\" hello 123 \")\n",
    "    "
   ]
  },
  {
   "cell_type": "code",
   "execution_count": 35,
   "metadata": {},
   "outputs": [
    {
     "name": "stdout",
     "output_type": "stream",
     "text": [
      "hi i am in hello 123 g class\n"
     ]
    }
   ],
   "source": [
    "with open(filename,'r') as file:\n",
    "    print(file.read())"
   ]
  },
  {
   "cell_type": "code",
   "execution_count": 23,
   "metadata": {},
   "outputs": [
    {
     "name": "stdout",
     "output_type": "stream",
     "text": [
      "Until now, you have been reading and writing to the standard input and output.\n",
      "Now, we will see how to use actual data files.\n",
      "Python provides basic functions and methods necessary to manipulate files by default. You can do most of the file manipulation using a file object.\n"
     ]
    }
   ],
   "source": [
    "\n",
    "import os\n",
    "directory = 'C:\\\\Users\\\\Lenovo\\\\Documents\\\\dir'\n",
    "name='dummy.txt'\n",
    "\n",
    "filename = os.path.join(directory, name)\n",
    "\n",
    "file=open(filename,'r')\n",
    "print(file.read())\n",
    "file.close()\n",
    "\n"
   ]
  },
  {
   "cell_type": "code",
   "execution_count": 31,
   "metadata": {},
   "outputs": [],
   "source": [
    "import os\n",
    "directory = 'C:\\\\Users\\\\Lenovo\\\\Documents\\\\dir'\n",
    "name='out.txt'\n",
    "filename = os.path.join(directory, name)\n",
    "\n",
    "with open(filename,'a') as file:\n",
    "    file.write(\"three.....\")"
   ]
  },
  {
   "cell_type": "code",
   "execution_count": null,
   "metadata": {},
   "outputs": [],
   "source": []
  }
 ],
 "metadata": {
  "kernelspec": {
   "display_name": "Python 3",
   "language": "python",
   "name": "python3"
  },
  "language_info": {
   "codemirror_mode": {
    "name": "ipython",
    "version": 3
   },
   "file_extension": ".py",
   "mimetype": "text/x-python",
   "name": "python",
   "nbconvert_exporter": "python",
   "pygments_lexer": "ipython3",
   "version": "3.8.3"
  }
 },
 "nbformat": 4,
 "nbformat_minor": 4
}
