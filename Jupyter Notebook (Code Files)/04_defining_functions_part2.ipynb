{
 "cells": [
  {
   "cell_type": "markdown",
   "metadata": {},
   "source": [
    "**Lexical Scope: Where can you see the variables?\n"
   ]
  },
  {
   "cell_type": "code",
   "execution_count": 18,
   "metadata": {},
   "outputs": [
    {
     "name": "stdout",
     "output_type": "stream",
     "text": [
      "15\n"
     ]
    }
   ],
   "source": [
    "\n",
    "#a=10\n",
    "\n",
    "def abc():\n",
    "    #a=6\n",
    "    b=5\n",
    "    print(a+b)\n",
    "    return\n",
    "\n",
    "\n",
    "abc()\n",
    "\n",
    "#print(a)"
   ]
  },
  {
   "cell_type": "code",
   "execution_count": null,
   "metadata": {},
   "outputs": [],
   "source": [
    "def square(z):\n",
    "    return z*z\n",
    "\n",
    "def sum_squares(x,y):\n",
    "    return square(x)+square(y)\n",
    "\n",
    "result = sum_squares(3,4)\n",
    "\n",
    "result\n",
    "    "
   ]
  },
  {
   "cell_type": "code",
   "execution_count": null,
   "metadata": {},
   "outputs": [],
   "source": [
    "def square(z):\n",
    "    return z*z\n",
    "\n",
    "def sum_squares(x,y):\n",
    "    return square(x)+square(y)\n",
    "\n",
    "\n",
    "\n",
    "\n",
    "result = sum_squares(a,b)\n",
    "\n",
    "print(\"result is\",result)\n"
   ]
  },
  {
   "cell_type": "code",
   "execution_count": null,
   "metadata": {},
   "outputs": [],
   "source": [
    "def square(z):\n",
    "    return z*z\n",
    "\n",
    "def sum_squares(x,y):\n",
    "    return square(x)+square(y)\n",
    "\n",
    "\n",
    "a = 3\n",
    "b = 4\n",
    "\n",
    "result = sum_squares(a,b)\n",
    "\n",
    "print(\"result is\",result)\n"
   ]
  },
  {
   "cell_type": "code",
   "execution_count": null,
   "metadata": {},
   "outputs": [],
   "source": [
    "def square(z):\n",
    "    return z*z\n",
    "\n",
    "def sum_squares(x,y):\n",
    "    print(\"value of a is\",a)\n",
    "    return square(x)+square(y)\n",
    "\n",
    "\n",
    "a = 3\n",
    "b = 4\n",
    "result = sum_squares(a,b)\n",
    "\n",
    "print(\"result is\",result)\n"
   ]
  },
  {
   "cell_type": "code",
   "execution_count": null,
   "metadata": {},
   "outputs": [],
   "source": [
    "def square(z):\n",
    "    return z*z\n",
    "\n",
    "def sum_squares(x,y):\n",
    "    print(\"value of d is\",d)\n",
    "    return square(x)+square(y)\n",
    "\n",
    "\n",
    "a = 3\n",
    "b = 4\n",
    "result = sum_squares(a,b)\n",
    "\n",
    "print(\"result is\",result)\n"
   ]
  },
  {
   "cell_type": "code",
   "execution_count": null,
   "metadata": {},
   "outputs": [],
   "source": [
    "def square(z):\n",
    "    return z*z\n",
    "\n",
    "def sum_squares(x,y):\n",
    "    a = 12\n",
    "    print(\"value of a is\",a)    \n",
    "    return square(x)+square(y)\n",
    "def square(x):\n",
    "    print(\"value of x is:\", x)\n",
    "    return x*x\n",
    "\n",
    "def sum_squares(x,y):\n",
    "    x = 5\n",
    "    y = 6\n",
    "    return square(x)+square(y)\n",
    "\n",
    "\n",
    "x = 3\n",
    "y = 4\n",
    "result = sum_squares(x,y)\n",
    "\n",
    "print(\"result is\",result)\n",
    "print(\"x is:\", x)def square(x):\n",
    "    print(\"value of x is:\", x)\n",
    "    return x*x\n",
    "\n",
    "def sum_squares(x,y):\n",
    "    x = 5\n",
    "    y = 6\n",
    "    return square(x)+square(y)\n",
    "\n",
    "\n",
    "x = 3\n",
    "y = 4\n",
    "result = sum_squares(x,y)\n",
    "\n",
    "print(\"result is\",result)\n",
    "print(\"x is:\", x)\n",
    "\n",
    "a = 3\n",
    "b = 4\n",
    "result = sum_squares(a,b)\n",
    "\n",
    "print(\"result is\",result)"
   ]
  },
  {
   "cell_type": "code",
   "execution_count": null,
   "metadata": {},
   "outputs": [],
   "source": [
    "def square(z):\n",
    "    return z*z\n",
    "\n",
    "def sum_squares(x,y):\n",
    "    print(\"value of x is:\",x)\n",
    "    return square(x)+square(y)\n",
    "\n",
    "\n",
    "a = 3\n",
    "b = 4\n",
    "x = 6\n",
    "result = sum_squares(a,b)\n",
    "\n",
    "print(\"result is:\",result)\n",
    "print(\"x is:\", x)\n"
   ]
  },
  {
   "cell_type": "code",
   "execution_count": null,
   "metadata": {},
   "outputs": [],
   "source": [
    "def square(x):\n",
    "    print(\"value of x is:\", x)\n",
    "    return x*x\n",
    "\n",
    "def sum_squares(x,y):\n",
    "    x = 5\n",
    "    y = 6\n",
    "    return square(x)+square(y)\n",
    "\n",
    "\n",
    "x = 3\n",
    "y = 4\n",
    "result = sum_squares(x,y)\n",
    "\n",
    "print(\"result is\",result)\n",
    "print(\"x is:\", x)"
   ]
  },
  {
   "cell_type": "code",
   "execution_count": null,
   "metadata": {},
   "outputs": [],
   "source": [
    "def square(x):\n",
    "    print(\"value of x is:\", x)\n",
    "    return x*x\n",
    "\n",
    "def sum_squares(x,y):\n",
    "    a = 12\n",
    "    print(\"value of a is: \",a)\n",
    "    return square(x)+square(y)\n",
    "\n",
    "\n",
    "x = 3\n",
    "y = 4\n",
    "a = 10\n",
    "result = sum_squares(x,y)\n",
    "\n",
    "print(\"result is\",result)\n",
    "print(\"x is:\", x)\n",
    "print(\"value of a is: \",a)"
   ]
  },
  {
   "cell_type": "code",
   "execution_count": null,
   "metadata": {},
   "outputs": [],
   "source": [
    "def f(x):                          \n",
    "    y = 1            \n",
    "    x = x + y         \n",
    "    print ('x =', x)    \n",
    "    print ('p =', p)  \n",
    "    return x\n",
    "\n",
    "p = 10\n",
    "x = 3\n",
    "y = 2    \n",
    "z = f(x) \n",
    "\n",
    "print('x =', x )\n",
    "print('y =', y)\n"
   ]
  },
  {
   "cell_type": "code",
   "execution_count": null,
   "metadata": {},
   "outputs": [],
   "source": [
    "\n",
    "def f(x):                          \n",
    "    y = 1            \n",
    "    x = x + y\n",
    "    p = 4\n",
    "    print ('x =', x)    \n",
    "    print ('p =', p)  \n",
    "    return x\n",
    "\n",
    "p = 10\n",
    "x = 3\n",
    "y = 2    \n",
    "z = f(x) \n",
    "\n",
    "print('x =', x )\n",
    "print('y =', y)"
   ]
  },
  {
   "cell_type": "code",
   "execution_count": null,
   "metadata": {},
   "outputs": [],
   "source": [
    "def f():    \n",
    "    print('y =', y)\n",
    "    y = 1       \n",
    "\n",
    "y = 25\n",
    "\n",
    "\n",
    "f() "
   ]
  },
  {
   "cell_type": "markdown",
   "metadata": {},
   "source": [
    "**Default values for parameters"
   ]
  },
  {
   "cell_type": "code",
   "execution_count": null,
   "metadata": {},
   "outputs": [],
   "source": [
    "def sqrt(num, guess): \n",
    "    print(\"Finding square root of\", num, \"starting with guess:\", guess)\n",
    "\n",
    "sqrt(36, 1)"
   ]
  },
  {
   "cell_type": "code",
   "execution_count": null,
   "metadata": {},
   "outputs": [],
   "source": [
    "sqrt(36)"
   ]
  },
  {
   "cell_type": "code",
   "execution_count": null,
   "metadata": {},
   "outputs": [],
   "source": [
    "def sqrt(num, guess=5.0): \n",
    "    print(\"Finding square root of\", num, \"starting with guess:\", guess)\n",
    "\n",
    "sqrt(36)"
   ]
  },
  {
   "cell_type": "markdown",
   "metadata": {},
   "source": [
    "**Designing Functions\n",
    "\n",
    "It's important to design your functions thoughtfully. Some important points to note:\n",
    "\n",
    "1. Functions are abstractions. So, their operation should depend as little on the environment as possible\n",
    "2. Names should be intuitive and meaningful\n",
    "3. Parameters should be named intuitively as well\n",
    "4. Functions should be documented!"
   ]
  },
  {
   "cell_type": "code",
   "execution_count": null,
   "metadata": {},
   "outputs": [],
   "source": [
    "import math"
   ]
  },
  {
   "cell_type": "code",
   "execution_count": null,
   "metadata": {},
   "outputs": [],
   "source": [
    "help(math.sqrt)"
   ]
  },
  {
   "cell_type": "code",
   "execution_count": 1,
   "metadata": {},
   "outputs": [],
   "source": [
    "def pressure(v, t, n):\n",
    "        \"\"\"Compute the pressure in pascals of an ideal gas. (This is called a docstring.)\n",
    "\n",
    "\n",
    "        Applies the ideal gas law.\n",
    "\n",
    "        v -- volume of gas, in cubic meters\n",
    "        t -- absolute temperature in degrees kelvin\n",
    "        n -- particles of gas\n",
    "        \"\"\"\n",
    "        k = 1.38e-23  # Boltzmann's constant\n",
    "        return n * k * t / v"
   ]
  },
  {
   "cell_type": "code",
   "execution_count": 2,
   "metadata": {},
   "outputs": [
    {
     "name": "stdout",
     "output_type": "stream",
     "text": [
      "Help on function pressure in module __main__:\n",
      "\n",
      "pressure(v, t, n)\n",
      "    Compute the pressure in pascals of an ideal gas. (This is called a docstring.)\n",
      "    \n",
      "    \n",
      "    Applies the ideal gas law.\n",
      "    \n",
      "    v -- volume of gas, in cubic meters\n",
      "    t -- absolute temperature in degrees kelvin\n",
      "    n -- particles of gas\n",
      "\n"
     ]
    }
   ],
   "source": [
    "help(pressure)"
   ]
  },
  {
   "cell_type": "code",
   "execution_count": 3,
   "metadata": {},
   "outputs": [
    {
     "data": {
      "text/plain": [
       "8.28e-23"
      ]
     },
     "execution_count": 3,
     "metadata": {},
     "output_type": "execute_result"
    }
   ],
   "source": [
    "pressure(2,3,4)"
   ]
  },
  {
   "cell_type": "code",
   "execution_count": null,
   "metadata": {},
   "outputs": [],
   "source": []
  }
 ],
 "metadata": {
  "kernelspec": {
   "display_name": "Python 3",
   "language": "python",
   "name": "python3"
  },
  "language_info": {
   "codemirror_mode": {
    "name": "ipython",
    "version": 3
   },
   "file_extension": ".py",
   "mimetype": "text/x-python",
   "name": "python",
   "nbconvert_exporter": "python",
   "pygments_lexer": "ipython3",
   "version": "3.8.3"
  }
 },
 "nbformat": 4,
 "nbformat_minor": 4
}
