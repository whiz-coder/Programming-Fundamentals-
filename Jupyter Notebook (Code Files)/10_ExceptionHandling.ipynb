{
 "cells": [
  {
   "cell_type": "markdown",
   "metadata": {},
   "source": [
    "# Exception Handling"
   ]
  },
  {
   "cell_type": "markdown",
   "metadata": {},
   "source": [
    "An “exception” is usually defined as “something that does not conform to the norm,” and is therefore somewhat rare."
   ]
  },
  {
   "cell_type": "code",
   "execution_count": null,
   "metadata": {},
   "outputs": [],
   "source": [
    "a = v + 10\n",
    "print(a)"
   ]
  },
  {
   "cell_type": "code",
   "execution_count": null,
   "metadata": {},
   "outputs": [],
   "source": [
    "c = 'a' + 10\n",
    "result = c * 100\n",
    "print (result)"
   ]
  },
  {
   "cell_type": "code",
   "execution_count": null,
   "metadata": {},
   "outputs": [],
   "source": [
    "num = int(input(\"Enter a number\"))\n",
    "print(abs(num))"
   ]
  },
  {
   "cell_type": "code",
   "execution_count": null,
   "metadata": {},
   "outputs": [],
   "source": [
    "int('0110',2)"
   ]
  },
  {
   "cell_type": "code",
   "execution_count": null,
   "metadata": {},
   "outputs": [],
   "source": [
    "filename = input(\"Enter the file name\")\n",
    "f = open(filename,'r')"
   ]
  },
  {
   "cell_type": "markdown",
   "metadata": {},
   "source": [
    "Unhandled exception"
   ]
  },
  {
   "cell_type": "code",
   "execution_count": null,
   "metadata": {},
   "outputs": [],
   "source": [
    "def get_ratios(L1, L2):    \n",
    "    \"\"\" Assumes: L1 and L2 are lists of equal length of numbers \n",
    "    Returns: a list containing L1[i]/L2[i] \"\"\"\n",
    "    \n",
    "    ratio = []\n",
    "    \n",
    "    for i in range(len(L1)):\n",
    "        ratio.append(L1[i]/L2[i])\n",
    "    \n",
    "    return ratio\n",
    "\n",
    "\n"
   ]
  },
  {
   "cell_type": "code",
   "execution_count": null,
   "metadata": {},
   "outputs": [],
   "source": [
    "input_L1 = []\n",
    "input_L2 = []\n",
    "\n",
    "print(\"Enter 6 values for list 1\")\n",
    "for i in range(6): \n",
    "    input_L1.append(int(input()))\n",
    "print(\"Enter 6 values for list 2\")\n",
    "for i in range(6): \n",
    "    input_L2.append(int(input()))\n",
    "    \n",
    "\n",
    "print(get_ratios(input_L1,input_L2))"
   ]
  },
  {
   "cell_type": "markdown",
   "metadata": {},
   "source": [
    "## This is not the normal case. It's an exceptional case. We need to handle this. But if we are trying to handle it, it means we are expecting it."
   ]
  },
  {
   "cell_type": "code",
   "execution_count": null,
   "metadata": {},
   "outputs": [],
   "source": [
    "input_L1 = []\n",
    "input_L2 = []\n",
    "\n",
    "print(\"Enter 6 values for list 1\")\n",
    "for i in range(6): \n",
    "    input_L1.append(int(input()))\n",
    "    \n",
    "print(\"Enter 6 values for list 2\")\n",
    "for i in range(6): \n",
    "    input_L2.append(int(input()))\n",
    "\n",
    "try: \n",
    "    print(get_ratios(input_L1,input_L2))\n",
    "    print(\"Everything divided successfully\")\n",
    "    \n",
    "except ZeroDivisionError: \n",
    "    print(\"Do not ask me to divide by 0 please.\")\n",
    "    \n",
    "print(\"done\")"
   ]
  },
  {
   "cell_type": "code",
   "execution_count": null,
   "metadata": {},
   "outputs": [],
   "source": [
    "while(True):\n",
    "   # val = input(\"Enter a number\")\n",
    "    try:\n",
    "        num = int(input(\"Enter a number\"))\n",
    "        break\n",
    "        \n",
    "    except: \n",
    "         print(\"is not a number\")  \n",
    "\n",
    "print(\"The absolute value is\",abs(num))\n",
    "    \n",
    "\n"
   ]
  },
  {
   "cell_type": "code",
   "execution_count": null,
   "metadata": {},
   "outputs": [],
   "source": [
    "v=float('nan')\n",
    "a = 2.0\n",
    "#type(a)\n",
    "type(v)\n",
    "c = v + 2\n",
    "c\n",
    "type(c)\n"
   ]
  },
  {
   "cell_type": "code",
   "execution_count": null,
   "metadata": {},
   "outputs": [],
   "source": [
    "def get_ratios(L1, L2):    \n",
    "    \"\"\" Assumes: L1 and L2 are lists of equal length of numbers \n",
    "    Returns: a list containing L1[i]/L2[i] \"\"\"\n",
    "    \n",
    "    ratio = []\n",
    "    \n",
    "    for i in range(len(L1)):\n",
    "        try:\n",
    "            ratio.append(L1[i]/L2[i])\n",
    "        except ZeroDivisionError:\n",
    "            \n",
    "            ratio.append(float('nan'))\n",
    "        \n",
    "    \n",
    "    return ratio\n"
   ]
  },
  {
   "cell_type": "code",
   "execution_count": null,
   "metadata": {},
   "outputs": [],
   "source": [
    "input_L1 = []\n",
    "input_L2 = []\n",
    "\n",
    "print(\"Enter 6 values for list 1\")\n",
    "for i in range(6): \n",
    "    input_L1.append(int(input()))\n",
    "    \n",
    "print(\"Enter 6 values for list 2\")\n",
    "for i in range(6): \n",
    "    input_L2.append(int(input()))\n",
    "\n",
    "\n",
    "print(get_ratios(input_L1,input_L2))\n",
    "print(\"Everything divided successfully\")\n",
    "    \n",
    "    \n",
    "print(\"done\")"
   ]
  },
  {
   "cell_type": "code",
   "execution_count": null,
   "metadata": {},
   "outputs": [],
   "source": [
    "a = 10\n",
    "b = 'a'\n",
    "\n",
    "try:\n",
    "    v = a/b\n",
    "    print(\"The result is\",v)\n",
    "except ZeroDivisionError:\n",
    "    print(\"Do not provide denominator as 0\")\n",
    "    \n",
    "\n",
    "print('Done')"
   ]
  },
  {
   "cell_type": "code",
   "execution_count": null,
   "metadata": {},
   "outputs": [],
   "source": [
    "a = 10\n",
    "b = 'a'\n",
    "\n",
    "try:\n",
    "    v = a/b\n",
    "    print(\"The result is\",v)\n",
    "    #open('file.txt','r')\n",
    "except ZeroDivisionError:\n",
    "    print(\"Do not provide denominator as 0\")\n",
    "except TypeError:\n",
    "    print(\"Please provide both numerator and denominator as numbers \")\n",
    "\n",
    "\n",
    "\n",
    "print('Done')"
   ]
  },
  {
   "cell_type": "code",
   "execution_count": null,
   "metadata": {},
   "outputs": [],
   "source": [
    "a = 10\n",
    "b = '0'\n",
    "\n",
    "try:\n",
    "    v = a/b\n",
    "    print(\"The result is\",v)\n",
    "    open('file.txt','r')\n",
    "except ZeroDivisionError:\n",
    "    print(\"Do not provide denominator as 0\")\n",
    "#except TypeError:\n",
    "    #print(\"Please provide both numerator and denominator as numbers \")\n",
    "except FileNotFoundError:\n",
    "    print(\"The file whose name you provided doesn't exist\")\n",
    "except:\n",
    "    print(\"something is swrong\")\n",
    "    \n",
    "\n",
    "print('Done')"
   ]
  },
  {
   "cell_type": "code",
   "execution_count": null,
   "metadata": {},
   "outputs": [],
   "source": [
    "a = 10\n",
    "b = 0\n",
    "\n",
    "try:\n",
    "    v = a/b\n",
    "    print(\"The result is\",v)\n",
    "except:  \n",
    "    #not a good practice..as useless as not handling the exception\n",
    "    print(\"Something is wrong!\")\n",
    "\n",
    "\n",
    "print('Done')"
   ]
  },
  {
   "cell_type": "markdown",
   "metadata": {},
   "source": [
    "## Exception Hierarchy"
   ]
  },
  {
   "cell_type": "markdown",
   "metadata": {},
   "source": []
  },
  {
   "cell_type": "code",
   "execution_count": null,
   "metadata": {},
   "outputs": [],
   "source": [
    "print(\"Simple program for showing overflow error\")\n",
    "print(\"\\n\")\n",
    "import math\n",
    "print(\"The exponential value is\")\n",
    "try:\n",
    "    print(math.exp(1000))\n",
    "    \n",
    "except OverflowError:\n",
    "    print(\"value very large\")"
   ]
  },
  {
   "cell_type": "code",
   "execution_count": null,
   "metadata": {},
   "outputs": [],
   "source": [
    "print(\"Simple program for showing overflow error\")\n",
    "print(\"\\n\")\n",
    "import math\n",
    "print(\"The exponential value is\")\n",
    "try:\n",
    "    print(math.exp(1000)\n",
    "\n",
    "except ArithmeticError:\n",
    "    print(\"some arithmetic error has occured\")"
   ]
  },
  {
   "cell_type": "markdown",
   "metadata": {},
   "source": [
    "## Bubbling Exception"
   ]
  },
  {
   "cell_type": "code",
   "execution_count": null,
   "metadata": {},
   "outputs": [],
   "source": []
  },
  {
   "cell_type": "code",
   "execution_count": null,
   "metadata": {},
   "outputs": [],
   "source": [
    "def calculator(op, n1, n2): \n",
    "    if op == 'div': \n",
    "        return div(n1, n2)\n",
    "    elif op == 'mul': \n",
    "        return mul(n1, n2)\n",
    "def div(n1, n2):\n",
    "    return n1/n2\n",
    "def mul(n1,n2):\n",
    "    return n1*n2"
   ]
  },
  {
   "cell_type": "code",
   "execution_count": null,
   "metadata": {},
   "outputs": [],
   "source": [
    "op = input(\"Enter operation\")\n",
    "num1 = int(input(\"Enter 1st number\"))\n",
    "num2 = int(input(\"Enter 2nd number\"))\n",
    "\n",
    "print(calculator(op,num1,num2))\n",
    "\n"
   ]
  },
  {
   "cell_type": "code",
   "execution_count": null,
   "metadata": {},
   "outputs": [],
   "source": [
    "op = input(\"Enter operation\")\n",
    "num1 = int(input(\"Enter 1st number\"))\n",
    "num2 = int(input(\"Enter 2nd number\"))\n",
    "try:\n",
    "    print(calculator(op,num1,num2))\n",
    "except ZeroDivisionError:\n",
    "    print(\"Do not provide denominator as 0\")\n",
    "    \n",
    "    \n",
    "    \n",
    "\n"
   ]
  },
  {
   "cell_type": "markdown",
   "metadata": {},
   "source": [
    "## Raising Exception"
   ]
  },
  {
   "cell_type": "code",
   "execution_count": null,
   "metadata": {},
   "outputs": [],
   "source": [
    "def sqrt(x, guess = 0.0): \n",
    "    if x < 0: \n",
    "        \n",
    "        return None \n",
    "    \n",
    "    if good_enough(guess, x): \n",
    "        return guess \n",
    "    \n",
    "    else: \n",
    "        new_guess = improve_guess(guess, x)  \n",
    "        return sqrt(x, new_guess)\n",
    "    \n"
   ]
  },
  {
   "cell_type": "code",
   "execution_count": null,
   "metadata": {},
   "outputs": [],
   "source": [
    "v = sqrt(-2)"
   ]
  },
  {
   "cell_type": "code",
   "execution_count": null,
   "metadata": {},
   "outputs": [],
   "source": [
    "# remember our square root example: \n",
    "def sqrt(x, guess = 1.0): \n",
    "    \"\"\"Calculate square root of a positive number. \n",
    "        Raises a ValueError if a negative number is passed to it.\"\"\"\n",
    "    \n",
    "    if x < 0: \n",
    "        raise ValueError(\"Cannot find square root of negative numbers\") \n",
    "    \n",
    "    # calculate square root and return value \n",
    "    if good_enough(guess, x): \n",
    "        return guess \n",
    "    \n",
    "    else: \n",
    "        new_guess = improve_guess(guess, x)  \n",
    "        return sqrt(x, new_guess)"
   ]
  },
  {
   "cell_type": "code",
   "execution_count": null,
   "metadata": {},
   "outputs": [],
   "source": [
    "def good_enough(guess, x): \n",
    "    if abs(guess * guess - x) < 0.1: \n",
    "        return True\n",
    "    else: \n",
    "        return False "
   ]
  },
  {
   "cell_type": "code",
   "execution_count": null,
   "metadata": {},
   "outputs": [],
   "source": [
    "def improve_guess(guess, x): \n",
    "    if guess < x: \n",
    "        return guess + 0.1 \n",
    "    else: \n",
    "        return guess - 0.1 "
   ]
  },
  {
   "cell_type": "code",
   "execution_count": null,
   "metadata": {},
   "outputs": [],
   "source": [
    "print(sqrt(-2))"
   ]
  },
  {
   "cell_type": "code",
   "execution_count": null,
   "metadata": {},
   "outputs": [],
   "source": [
    "try:\n",
    "\n",
    "    print(sqrt(-4))   # it's the caller's responsibility to handle the exeption\n",
    "\n",
    "except ValueError:\n",
    "    print(\"Bad number \")"
   ]
  },
  {
   "cell_type": "code",
   "execution_count": null,
   "metadata": {},
   "outputs": [],
   "source": [
    "def get_ratios(L1, L2):    \n",
    "    \"\"\" Assumes: L1 and L2 are lists of equal length of numbers \n",
    "    Returns: a list containing L1[i]/L2[i] \"\"\"\n",
    "    \n",
    "    ratio = []\n",
    "    \n",
    "    for i in range(len(L1)):\n",
    "        try:\n",
    "            ratio.append(L1[i]/L2[i])\n",
    "        except ZeroDivisionError:\n",
    "            ratio.append(float('nan'))\n",
    "        except : \n",
    "            raise ValueError(\"Get ratios called with bad arguments\")\n",
    "        \n",
    "        \n",
    "    \n",
    "    return ratio"
   ]
  },
  {
   "cell_type": "code",
   "execution_count": null,
   "metadata": {},
   "outputs": [],
   "source": [
    "try:\n",
    "    print(get_ratios([1.0,2.0,7.0,6.0], [1.0,2.0,0.0,3.0]))\n",
    "    print(get_ratios([], []))\n",
    "    print(get_ratios([1.0, 2.0], [3.0,'2']))\n",
    "except ValueError as msg:\n",
    "    print(msg)\n",
    "    "
   ]
  },
  {
   "cell_type": "code",
   "execution_count": null,
   "metadata": {},
   "outputs": [],
   "source": [
    "def getRatios(vect1, vect2):\n",
    "    \"\"\"Assumes: vect1 and vect2 are lists of equal length of numbers\n",
    "    Returns: a list containing the meaningful values of\n",
    "    vect1[i]/vect2[i]\"\"\"\n",
    "    ratios = []\n",
    "    if len(vect1) != len(vect2):\n",
    "        raise ValueError('getRatios called with bad arguments')\n",
    "    for index in range(len(vect1)):\n",
    "        vect1Elem = vect1[index]\n",
    "        vect2Elem = vect2[index]\n",
    "        if (type(vect1Elem) not in (int, float)) or (type(vect2Elem) not in (int, float)):\n",
    "            raise ValueError('getRatios called with bad arguments')\n",
    "        if vect2Elem == 0.0:\n",
    "            ratios.append(float('NaN')) #NaN = Not a Number\n",
    "        else:\n",
    "            ratios.append(vect1Elem/vect2Elem)\n",
    "    return ratios"
   ]
  },
  {
   "cell_type": "code",
   "execution_count": null,
   "metadata": {},
   "outputs": [],
   "source": [
    "try:\n",
    "    print(get_ratios([1.0,2.0,7.0,6.0], [1.0,2.0,0.0,3.0]))\n",
    "    print(get_ratios([], []))\n",
    "    print(get_ratios([1.0, 2.0], [3.0]))\n",
    "except ValueError as msg:\n",
    "    print(msg)"
   ]
  },
  {
   "cell_type": "markdown",
   "metadata": {},
   "source": [
    "## Assertions"
   ]
  },
  {
   "cell_type": "markdown",
   "metadata": {},
   "source": [
    "Assertions provide a simple way to confirm that the state of a computation is as expected. \n",
    "\n",
    "assert Boolean expression\n",
    "\n",
    "or\n",
    "\n",
    "assert Boolean expression, argument"
   ]
  },
  {
   "cell_type": "code",
   "execution_count": null,
   "metadata": {},
   "outputs": [],
   "source": [
    "x = \"hello\"\n",
    "\n",
    "#if condition returns True, then nothing happens:\n",
    "#assert x == \"hello\"\n",
    "\n",
    "\n",
    "#if condition returns False, AssertionError is raised:\n",
    "assert x == \"goodbye\"\n",
    "print(\"hi\")"
   ]
  },
  {
   "cell_type": "code",
   "execution_count": null,
   "metadata": {},
   "outputs": [],
   "source": [
    "\n",
    "\n",
    "def KelvinToFahrenheit(Temperature):\n",
    "   assert (Temperature >= 0),\"Colder than absolute zero!\"\n",
    "   return ((Temperature-273)*1.8)+32\n",
    "\n",
    "print(KelvinToFahrenheit(273))\n",
    "print(int(KelvinToFahrenheit(505.78)))\n",
    "print(KelvinToFahrenheit(-5))"
   ]
  },
  {
   "cell_type": "code",
   "execution_count": null,
   "metadata": {},
   "outputs": [],
   "source": []
  },
  {
   "cell_type": "code",
   "execution_count": 4,
   "metadata": {},
   "outputs": [
    {
     "name": "stdout",
     "output_type": "stream",
     "text": [
      "0\n",
      "Dont input zero\n",
      "0\n"
     ]
    }
   ],
   "source": [
    "try:\n",
    "    num =  int(input())\n",
    "    if num == 0:\n",
    "        raise ValueError(\"You have entered zero\")\n",
    "except ValueError:\n",
    "    print(\"Dont input zero\")\n",
    "print(num)\n",
    "\n",
    "    \n",
    "\n",
    "\n"
   ]
  },
  {
   "cell_type": "code",
   "execution_count": null,
   "metadata": {},
   "outputs": [],
   "source": []
  },
  {
   "cell_type": "code",
   "execution_count": null,
   "metadata": {},
   "outputs": [],
   "source": []
  },
  {
   "cell_type": "code",
   "execution_count": null,
   "metadata": {},
   "outputs": [],
   "source": []
  }
 ],
 "metadata": {
  "kernelspec": {
   "display_name": "Python 3",
   "language": "python",
   "name": "python3"
  },
  "language_info": {
   "codemirror_mode": {
    "name": "ipython",
    "version": 3
   },
   "file_extension": ".py",
   "mimetype": "text/x-python",
   "name": "python",
   "nbconvert_exporter": "python",
   "pygments_lexer": "ipython3",
   "version": "3.8.5"
  }
 },
 "nbformat": 4,
 "nbformat_minor": 4
}
